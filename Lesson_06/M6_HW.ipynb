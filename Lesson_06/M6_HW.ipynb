{
  "nbformat": 4,
  "nbformat_minor": 0,
  "metadata": {
    "colab": {
      "provenance": []
    },
    "kernelspec": {
      "name": "python3",
      "display_name": "Python 3"
    },
    "language_info": {
      "name": "python"
    }
  },
  "cells": [
    {
      "cell_type": "code",
      "execution_count": null,
      "metadata": {
        "id": "8zrIBV1sRyKj"
      },
      "outputs": [],
      "source": []
    },
    {
      "cell_type": "markdown",
      "source": [
        "Task_01\n",
        "— Вы работаете с рассылкой предложений перед “черной пятницей”, доля открываемых писем, исходя из заголовка письма в рассылках, обычно составляет 15% (конверсия). Вам хочется увеличить конверсию открываемых писем до 25% с помощью смайликов. Рассчитайте необходимый размер выборки. Сделай вывод. (В вашей базе рассылок около 40000 человек)"
      ],
      "metadata": {
        "id": "0T0wxZyiSPJK"
      }
    },
    {
      "cell_type": "code",
      "source": [
        "import numpy as np\n",
        "import pandas as pd\n",
        "from scipy import stats\n",
        "import seaborn as sns\n",
        "import matplotlib.pyplot as plt"
      ],
      "metadata": {
        "id": "MAORLtvtSRO9"
      },
      "execution_count": 3,
      "outputs": []
    },
    {
      "cell_type": "code",
      "source": [
        "def find_n(pa, p0, alpha = 0.05, beta = 0.2):\n",
        "    za = stats.norm().ppf(1 - alpha)\n",
        "    zb = stats.norm().ppf(1 - beta)\n",
        "    sn = (np.sqrt(p0 * (1 - p0)) * za + np.sqrt(pa * (1 - pa)) * zb) / (pa - p0)\n",
        "    return sn ** 2"
      ],
      "metadata": {
        "id": "LNw-LnmTSSZR"
      },
      "execution_count": 4,
      "outputs": []
    },
    {
      "cell_type": "code",
      "source": [
        "alpha = 0.05\n",
        "beta = 0.2\n",
        "\n",
        "BCR = 0.15\n",
        "MDE = 0.25\n",
        "find_n(BCR, MDE, alpha=0.05, beta=0.2)"
      ],
      "metadata": {
        "colab": {
          "base_uri": "https://localhost:8080/"
        },
        "id": "FhZr5GwNSVec",
        "outputId": "916d5928-fa0e-4901-a136-ffd80c11cb25"
      },
      "execution_count": 5,
      "outputs": [
        {
          "output_type": "execute_result",
          "data": {
            "text/plain": [
              "102.56856602139405"
            ]
          },
          "metadata": {},
          "execution_count": 5
        }
      ]
    },
    {
      "cell_type": "markdown",
      "source": [
        "Требуемый размер выборки 103 человека."
      ],
      "metadata": {
        "id": "Hz6AHLyPTCM0"
      }
    },
    {
      "cell_type": "markdown",
      "source": [
        "Task_02\n",
        "— И вот вы теперь тестируете две версии рассылок. И заметили, что в одной версии конверсия 19%, а в другой 24%. Всего у вас 100 человек в рассылке. Является ли результат статистически значимым? Если нет, то сколько должно было человек, чтобы результат был уже статистически значим?"
      ],
      "metadata": {
        "id": "1oio3q_jTIi9"
      }
    },
    {
      "cell_type": "code",
      "source": [
        "from scipy.stats import norm\n",
        "\n",
        "n1 = 100\n",
        "n2 = 100\n",
        "p1 = 0.19\n",
        "p2 = 0.24\n",
        "\n",
        "p_pool = (n1 * p1 + n2 * p2) / (n1 + n2)\n",
        "se = np.sqrt(p_pool * (1 - p_pool) * (1 / n1 + 1 / n2))\n",
        "z = (p1 - p2) / se\n",
        "p_value = 2 * (1 - norm.cdf(abs(z)))\n",
        "\n",
        "p_value"
      ],
      "metadata": {
        "colab": {
          "base_uri": "https://localhost:8080/"
        },
        "id": "5ZL8TdQiTDDw",
        "outputId": "82312adc-8ad0-4c07-a248-f4320289e41b"
      },
      "execution_count": 6,
      "outputs": [
        {
          "output_type": "execute_result",
          "data": {
            "text/plain": [
              "0.3894588156343448"
            ]
          },
          "metadata": {},
          "execution_count": 6
        }
      ]
    },
    {
      "cell_type": "code",
      "source": [
        "BCR = 0.19\n",
        "MDE = 0.24\n",
        "find_n(BCR, MDE, alpha=0.05, beta=0.2)"
      ],
      "metadata": {
        "colab": {
          "base_uri": "https://localhost:8080/"
        },
        "id": "x1BpukncT31j",
        "outputId": "5ad001b7-7187-430e-e7ff-6e151db7242f"
      },
      "execution_count": 8,
      "outputs": [
        {
          "output_type": "execute_result",
          "data": {
            "text/plain": [
              "426.5530238125583"
            ]
          },
          "metadata": {},
          "execution_count": 8
        }
      ]
    },
    {
      "cell_type": "markdown",
      "source": [
        "Требуемый размер выборки для того, чтобы результат был статистически значимым, 427 человек."
      ],
      "metadata": {
        "id": "KZQhms8AT5Dd"
      }
    },
    {
      "cell_type": "markdown",
      "source": [
        "Task_03\n",
        "— Вас повысили до старшего аналитика. Ваша первая задача на новой позиции, определить какой поставщик товаров (A или B) позволяет вам получить наибольшую оценку качества. У вас две группы оценок для A и B. Среднее группы A = 45, дисперсия группы A = 4, средние группы B = 40, дисперсия группы B = 3. Является ли группа А лучшей, если опираться на статистическую значимость? А если бы обе дисперсии были равны 1?"
      ],
      "metadata": {
        "id": "ScXLR_G-Ts5N"
      }
    },
    {
      "cell_type": "code",
      "source": [
        "# Предположим, что размеры выборок равны\n",
        "n_A = 30\n",
        "n_B = 30\n",
        "\n",
        "std_A = np.sqrt(4)\n",
        "std_B = np.sqrt(3)\n",
        "\n",
        "mean_A = 45\n",
        "mean_B = 40\n",
        "\n",
        "t_statistic, p_value = stats.ttest_ind_from_stats(\n",
        "    mean1=mean_A, std1=std_A, nobs1=n_A,\n",
        "    mean2=mean_B, std2=std_B, nobs2=n_B,\n",
        "    equal_var=False\n",
        ")\n",
        "\n",
        "print(f\"p-значение: {p_value}\")\n",
        "\n",
        "if p_value < 0.05:\n",
        "    print(\"Группа A статистически лучше группы B.\")\n",
        "else:\n",
        "    print(\"Нет статистически значимых различий между группами.\")"
      ],
      "metadata": {
        "colab": {
          "base_uri": "https://localhost:8080/"
        },
        "id": "B8BsqBj4Tx9x",
        "outputId": "51ba7160-5bc4-427f-fd60-d50f342b19b6"
      },
      "execution_count": 7,
      "outputs": [
        {
          "output_type": "stream",
          "name": "stdout",
          "text": [
            "p-значение: 1.0813919362386744e-14\n",
            "Группа A статистически лучше группы B.\n"
          ]
        }
      ]
    },
    {
      "cell_type": "code",
      "source": [
        "# Дисперсии равны\n",
        "std_equal = np.sqrt(1)\n",
        "\n",
        "t_statistic_equal, p_value_equal = stats.ttest_ind_from_stats(\n",
        "    mean1=mean_A, std1=std_equal, nobs1=n_A,\n",
        "    mean2=mean_B, std2=std_equal, nobs2=n_B,\n",
        "    equal_var=True)\n",
        "\n",
        "print(f\"p-значение: {p_value_equal}\")\n",
        "\n",
        "if p_value_equal < 0.05:\n",
        "    print(\"Группа A статистически лучше группы B.\")\n",
        "else:\n",
        "    print(\"Нет статистически значимых различий между группами.\")"
      ],
      "metadata": {
        "colab": {
          "base_uri": "https://localhost:8080/"
        },
        "id": "3XD0Zp6ezEJW",
        "outputId": "f0beb612-a8c7-46f3-d78e-c2fe04d9352e"
      },
      "execution_count": 9,
      "outputs": [
        {
          "output_type": "stream",
          "name": "stdout",
          "text": [
            "p-значение: 5.3670133030694715e-27\n",
            "Группа A статистически лучше группы B.\n"
          ]
        }
      ]
    },
    {
      "cell_type": "markdown",
      "source": [
        "Вывод: В обоих случаях мы можем сделать вывод, что группа А является лучшим поставщиком с точки зрения оценки качества, основываясь на статистической значимости."
      ],
      "metadata": {
        "id": "1L8sSk7kzJKx"
      }
    },
    {
      "cell_type": "markdown",
      "source": [
        "Task_04\n",
        "— Вы планируете эксперимент по способам расстановки продуктов на полке. Вы предполагаете, что некоторые пары продуктов надо класть вместе. В качестве метрики у вас средний чек покупок. Вы проводите эксперимент в 1000 магазинах. Средний чек в группе A = 870 рублей, дисперсия этого чека - 80 рублей. Какое минимальное значение метрики надо получить для группы B, чтобы после всей 1000 экспериментов с каждым магазином мы могли с уверенностью сказать, что тестируемая гипотеза в группе B верна?"
      ],
      "metadata": {
        "id": "tL-HN4DczLNX"
      }
    },
    {
      "cell_type": "code",
      "source": [
        "mean_A = 870\n",
        "var_A = 80\n",
        "n = 1000\n",
        "\n",
        "std_A = np.sqrt(var_A)\n",
        "\n",
        "standard_error = std_A / np.sqrt(n)\n",
        "\n",
        "alpha = 0.05\n",
        "\n",
        "t_critical = stats.t.ppf(1 - alpha / 2, df=n - 1)\n",
        "\n",
        "# Минимальное значение среднего чека в группе B\n",
        "\n",
        "min_mean_B = mean_A + t_critical * standard_error\n",
        "\n",
        "print(f\"Минимальное значение среднего чека в группе B для статистической значимости: {min_mean_B:.2f} рублей\")"
      ],
      "metadata": {
        "colab": {
          "base_uri": "https://localhost:8080/"
        },
        "id": "NYnJc_YpzP5w",
        "outputId": "b323657d-ebb6-4202-dd74-28d3b7c32f5b"
      },
      "execution_count": 10,
      "outputs": [
        {
          "output_type": "stream",
          "name": "stdout",
          "text": [
            "Минимальное значение среднего чека в группе B для статистической значимости: 870.56 рублей\n"
          ]
        }
      ]
    },
    {
      "cell_type": "markdown",
      "source": [
        "минимальное значение среднего чека в группе B - 875.3 рубля, что выше нашего расчетного."
      ],
      "metadata": {
        "id": "ZIFy8BAlzX3p"
      }
    }
  ]
}