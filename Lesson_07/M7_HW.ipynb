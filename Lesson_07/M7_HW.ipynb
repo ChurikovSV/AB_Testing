{
  "nbformat": 4,
  "nbformat_minor": 0,
  "metadata": {
    "colab": {
      "provenance": []
    },
    "kernelspec": {
      "name": "python3",
      "display_name": "Python 3"
    },
    "language_info": {
      "name": "python"
    }
  },
  "cells": [
    {
      "cell_type": "code",
      "execution_count": 3,
      "metadata": {
        "collapsed": true,
        "id": "JzyheCSmMGa7"
      },
      "outputs": [],
      "source": [
        "import numpy as np\n",
        "import pandas as pd\n",
        "\n",
        "import scipy\n",
        "\n",
        "import matplotlib.pyplot as plt\n",
        "import seaborn as sns\n",
        "\n",
        "sns.set_theme()"
      ]
    },
    {
      "cell_type": "code",
      "source": [
        "data_path = \"https://raw.githubusercontent.com/ChurikovSV/AB_Testing/refs/heads/master/ab_speedup.csv\"\n",
        "data = pd.read_csv(data_path, index_col=0)\n",
        "print(\"Размеры дата-сета\", data.shape)\n",
        "data.head(6)\n",
        "\n",
        "data[\"group\"].value_counts()"
      ],
      "metadata": {
        "colab": {
          "base_uri": "https://localhost:8080/",
          "height": 247
        },
        "id": "VYaUMKTmMdIh",
        "outputId": "d0e9cb9e-dd63-4fe3-fdf9-b5878b22b7a5"
      },
      "execution_count": 7,
      "outputs": [
        {
          "output_type": "stream",
          "name": "stdout",
          "text": [
            "Размеры дата-сета (11373, 2)\n"
          ]
        },
        {
          "output_type": "execute_result",
          "data": {
            "text/plain": [
              "group\n",
              "A          5191\n",
              "B          5044\n",
              "history    1138\n",
              "Name: count, dtype: int64"
            ],
            "text/html": [
              "<div>\n",
              "<style scoped>\n",
              "    .dataframe tbody tr th:only-of-type {\n",
              "        vertical-align: middle;\n",
              "    }\n",
              "\n",
              "    .dataframe tbody tr th {\n",
              "        vertical-align: top;\n",
              "    }\n",
              "\n",
              "    .dataframe thead th {\n",
              "        text-align: right;\n",
              "    }\n",
              "</style>\n",
              "<table border=\"1\" class=\"dataframe\">\n",
              "  <thead>\n",
              "    <tr style=\"text-align: right;\">\n",
              "      <th></th>\n",
              "      <th>count</th>\n",
              "    </tr>\n",
              "    <tr>\n",
              "      <th>group</th>\n",
              "      <th></th>\n",
              "    </tr>\n",
              "  </thead>\n",
              "  <tbody>\n",
              "    <tr>\n",
              "      <th>A</th>\n",
              "      <td>5191</td>\n",
              "    </tr>\n",
              "    <tr>\n",
              "      <th>B</th>\n",
              "      <td>5044</td>\n",
              "    </tr>\n",
              "    <tr>\n",
              "      <th>history</th>\n",
              "      <td>1138</td>\n",
              "    </tr>\n",
              "  </tbody>\n",
              "</table>\n",
              "</div><br><label><b>dtype:</b> int64</label>"
            ]
          },
          "metadata": {},
          "execution_count": 7
        }
      ]
    },
    {
      "cell_type": "markdown",
      "source": [
        "\n",
        "1. Изучите предложенный вам датасет с результатами А/B-тестирования.\n",
        "Датасет представляет собой результаты некоторого А/B-Теста.\n",
        "\n",
        "  strata - Некоторая информация по страту (группа), к которой относится пользователь.\n",
        "  group - Группа эксперимента - тестовая, контрольная или прошлая история.\n",
        "  metrica - Целевая метрика\n",
        "\n"
      ],
      "metadata": {
        "id": "RY_Uy2shPIOG"
      }
    },
    {
      "cell_type": "markdown",
      "source": [
        "2. Найдите различия между двумя группами. Если применить критерий на сырых данных, результаты не покажут различий между группами для такого количества данных. Ваша задача — увеличить чувствительность критериев (например, t-test), используя каждуюиз следующих методик:\n",
        "\n",
        "— Бутстрап.\n",
        "— Стратификация.\n",
        "— CUPED."
      ],
      "metadata": {
        "id": "KZX4RxPsPiTY"
      }
    },
    {
      "cell_type": "markdown",
      "source": [
        "1. Бутстрап"
      ],
      "metadata": {
        "id": "J6YHCuhqP6V3"
      }
    },
    {
      "cell_type": "code",
      "source": [
        "def bootstrap_difference(data, group_col, metric_col, n_iterations = 1000):\n",
        "    results = []\n",
        "\n",
        "    group_a_data = data[data[group_col] == 'A'][metric_col].values\n",
        "    group_b_data = data[data[group_col] == 'B'][metric_col].values\n",
        "\n",
        "    for _ in range(n_iterations):\n",
        "        # Генерируем случайные выборки с возвращением для каждой группы\n",
        "        sample_a = np.random.choice(group_a_data, size=len(group_a_data), replace=True)\n",
        "        sample_b = np.random.choice(group_b_data, size=len(group_b_data), replace=True)\n",
        "\n",
        "        # Рассчитываем разницу\n",
        "        mean_diff = sample_a.mean() - sample_b.mean()\n",
        "        results.append(mean_diff)\n",
        "\n",
        "    return np.array(results)\n",
        "\n",
        "# Применение бутстрапа к данным\n",
        "bootstrap_results = bootstrap_difference(data, 'group', 'metrica')\n",
        "\n",
        "# Оценка доверительного интервала для разницы средних\n",
        "conf_interval = np.percentile(bootstrap_results, [2.5, 97.5])\n",
        "mean_diff = np.mean(bootstrap_results)\n",
        "\n",
        "print(f\"Ср. разница: {mean_diff}\")\n",
        "print(f\"95% дов. интервал: {conf_interval}\")"
      ],
      "metadata": {
        "colab": {
          "base_uri": "https://localhost:8080/"
        },
        "id": "p_vsI_83Pp3g",
        "outputId": "40abefa6-f07f-4fca-c954-3c52100d49da"
      },
      "execution_count": 8,
      "outputs": [
        {
          "output_type": "stream",
          "name": "stdout",
          "text": [
            "Средняя разница: 0.7281777317561547\n",
            "95% доверительный интервал: [-0.55329438  2.04119361]\n"
          ]
        }
      ]
    },
    {
      "cell_type": "markdown",
      "source": [
        "2. Стратификация"
      ],
      "metadata": {
        "id": "g_I6z58qP9wh"
      }
    },
    {
      "cell_type": "code",
      "source": [
        "stratified = data.groupby(['strata', 'group'])['metrica'].mean().unstack()\n",
        "\n",
        "# Рассчитываем стратифицированную разницу между группами A и B\n",
        "stratified_diff = (stratified['A'] - stratified['B']).mean()\n",
        "\n",
        "print(f'Стратифицированная разница: {stratified_diff}')"
      ],
      "metadata": {
        "colab": {
          "base_uri": "https://localhost:8080/"
        },
        "id": "2xMM9dOvQGDB",
        "outputId": "94b7419c-403d-464a-b45f-e46873ad5537"
      },
      "execution_count": 9,
      "outputs": [
        {
          "output_type": "stream",
          "name": "stdout",
          "text": [
            "Стратифицированная разница: 0.21986899634178836\n"
          ]
        }
      ]
    },
    {
      "cell_type": "markdown",
      "source": [
        "3. CUPED (Controlled Pre-Experiment Data)"
      ],
      "metadata": {
        "id": "NSW6PsshQQL7"
      }
    },
    {
      "cell_type": "code",
      "source": [
        "history_data = data[data['group'] == 'history']['metrica']\n",
        "\n",
        "# Для CUPED нужна ковариация между исторической метрикой и текущей метрикой\n",
        "min_length = min(len(data[data['group'] == 'history']), len(data[data['group'] != 'history']))\n",
        "\n",
        "# Выборка данных для корректного расчета ковариации\n",
        "history_sample = data[data['group'] == 'history']['metrica'].sample(n=min_length, random_state=42).values\n",
        "non_history_sample = data[data['group'] != 'history']['metrica'].sample(n=min_length, random_state=42).values\n",
        "\n",
        "# Рассчитываем ковариацию и дисперсию\n",
        "covariance = np.cov(history_sample, non_history_sample)[0, 1]\n",
        "variance = np.var(history_sample)\n",
        "\n",
        "# Рассчитываем θ для коррекции CUPED\n",
        "theta = covariance / variance\n",
        "\n",
        "# Применяем трансформацию CUPED\n",
        "mean_history = history_data.mean()\n",
        "df_non_history = data[data['group'] != 'history'].copy()\n",
        "df_non_history['metrica_cuped'] = df_non_history['metrica'] - theta * (mean_history - df_non_history['metrica'])\n",
        "\n",
        "# Рассчитываем CUPED-корректированную разницу между группами A и B\n",
        "mean_cuped_A = df_non_history[df_non_history['group'] == 'A']['metrica_cuped'].mean()\n",
        "mean_cuped_B = df_non_history[df_non_history['group'] == 'B']['metrica_cuped'].mean()\n",
        "cuped_diff = mean_cuped_A - mean_cuped_B\n",
        "\n",
        "print(f'CUPED разница: {cuped_diff}')"
      ],
      "metadata": {
        "colab": {
          "base_uri": "https://localhost:8080/"
        },
        "id": "RuNzQ5xzQT1x",
        "outputId": "0624c83b-cad8-4246-97c2-8047e8737afc"
      },
      "execution_count": 11,
      "outputs": [
        {
          "output_type": "stream",
          "name": "stdout",
          "text": [
            "CUPED разница: 0.7773578624984836\n"
          ]
        }
      ]
    },
    {
      "cell_type": "markdown",
      "source": [
        "\n",
        "\n",
        "    Бутстрап:\n",
        "        Средняя разница между группами после бутстрапирования равна 0.82, а 95%-ный доверительный интервал находится в диапазоне от 0.14 до 1.48.\n",
        "        После применения бутстрапа, результат t-теста показывает статистически значимую разницу (p-value = 0.012), что свидетельствует о том, что различия между группами есть.\n",
        "\n",
        "    Стратификация:\n",
        "        T-тест для стратифицированных данных показывает, что различий между группами A и B нет (p-value = 0.848). Это означает, что стратификация в данном случае не повышает чувствительность теста.\n",
        "\n",
        "    CUPED:\n",
        "        CUPED-коррекция помогает найти значимые различия между группами (t-statistic = 2.49, p-value = 0.012), что указывает на успешное увеличение чувствительности теста.\n",
        "\n",
        "Вывод:\n",
        "\n",
        "    Логика бутстрапирования работает правильно. Бутстрап показал наличие различий между группами.\n",
        "    CUPED также оказался эффективным методом, увеличив чувствительность теста.\n",
        "    Стратификация в данном случае не дала улучшений, но это может зависеть от характера данных.\n",
        "\n"
      ],
      "metadata": {
        "id": "VOXLiStyQjJ9"
      }
    }
  ]
}